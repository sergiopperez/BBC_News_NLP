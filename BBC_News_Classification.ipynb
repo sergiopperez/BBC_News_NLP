{
 "cells": [
  {
   "cell_type": "markdown",
   "metadata": {},
   "source": [
    "# Classification model for BBC news"
   ]
  },
  {
   "cell_type": "code",
   "execution_count": 3,
   "metadata": {
    "colab": {
     "base_uri": "https://localhost:8080/",
     "height": 204
    },
    "id": "gnwiOnGyW5JK",
    "outputId": "c60f139a-d44d-4dd9-f888-977b4bba7320"
   },
   "outputs": [],
   "source": [
    "import csv\n",
    "import tensorflow as tf\n",
    "import numpy as np\n",
    "from tensorflow.keras.preprocessing.text import Tokenizer\n",
    "from tensorflow.keras.preprocessing.sequence import pad_sequences"
   ]
  },
  {
   "cell_type": "markdown",
   "metadata": {},
   "source": [
    "### Download the file with the BBC news and labels"
   ]
  },
  {
   "cell_type": "code",
   "execution_count": 1,
   "metadata": {},
   "outputs": [
    {
     "name": "stdout",
     "output_type": "stream",
     "text": [
      "--2020-10-04 18:38:23--  https://storage.googleapis.com/laurencemoroney-blog.appspot.com/bbc-text.csv\n",
      "Resolving storage.googleapis.com (storage.googleapis.com)... 216.58.204.16, 216.58.212.240, 216.58.205.48, ...\n",
      "Connecting to storage.googleapis.com (storage.googleapis.com)|216.58.204.16|:443... connected.\n",
      "HTTP request sent, awaiting response... 200 OK\n",
      "Length: 5057493 (4.8M) [application/octet-stream]\n",
      "Saving to: ‘/tmp/bbc-text.csv’\n",
      "\n",
      "/tmp/bbc-text.csv   100%[===================>]   4.82M  4.37MB/s    in 1.1s    \n",
      "\n",
      "2020-10-04 18:38:25 (4.37 MB/s) - ‘/tmp/bbc-text.csv’ saved [5057493/5057493]\n",
      "\n"
     ]
    }
   ],
   "source": [
    "!wget --no-check-certificate \\\n",
    "    https://storage.googleapis.com/laurencemoroney-blog.appspot.com/bbc-text.csv \\\n",
    "    -O /tmp/bbc-text.csv"
   ]
  },
  {
   "cell_type": "markdown",
   "metadata": {},
   "source": [
    "### Set up hyperparameters"
   ]
  },
  {
   "cell_type": "code",
   "execution_count": 9,
   "metadata": {
    "id": "EYo6A4v5ZABQ"
   },
   "outputs": [],
   "source": [
    "vocab_size = 10000 \n",
    "embedding_dim = 16 \n",
    "max_length = 120 \n",
    "trunc_type = 'post' \n",
    "padding_type = 'post' \n",
    "oov_tok = \"<OOV>\" \n",
    "training_portion = .8"
   ]
  },
  {
   "cell_type": "markdown",
   "metadata": {
    "colab": {
     "base_uri": "https://localhost:8080/",
     "height": 34
    },
    "id": "iU1qq3_SZBx_",
    "outputId": "97054edb-1b15-43d1-eac6-72b1416bdb19"
   },
   "source": [
    "### Create arrays with sentences and labels"
   ]
  },
  {
   "cell_type": "code",
   "execution_count": 10,
   "metadata": {
    "colab": {
     "base_uri": "https://localhost:8080/",
     "height": 88
    },
    "id": "eutB2xMiZD0e",
    "outputId": "7aaa9157-8fce-4992-8279-ea09d58aefc3"
   },
   "outputs": [
    {
     "name": "stdout",
     "output_type": "stream",
     "text": [
      "2225\n",
      "2225\n",
      "tv future hands viewers home theatre systems plasma high-definition tvs digital video recorders moving living room way people watch tv will radically different five years time. according expert panel gathered annual consumer electronics show las vegas discuss new technologies will impact one favourite pastimes. us leading trend programmes content will delivered viewers via home networks cable satellite telecoms companies broadband service providers front rooms portable devices. one talked-about technologies ces digital personal video recorders (dvr pvr). set-top boxes like us s tivo uk s sky+ system allow people record store play pause forward wind tv programmes want. essentially technology allows much personalised tv. also built-in high-definition tv sets big business japan us slower take off europe lack high-definition programming. not can people forward wind adverts can also forget abiding network channel schedules putting together a-la-carte entertainment. us networks cable satellite companies worried means terms advertising revenues well brand identity viewer loyalty channels. although us leads technology moment also concern raised europe particularly growing uptake services like sky+. happens today will see nine months years time uk adam hume bbc broadcast s futurologist told bbc news website. likes bbc no issues lost advertising revenue yet. pressing issue moment commercial uk broadcasters brand loyalty important everyone. will talking content brands rather network brands said tim hanlon brand communications firm starcom mediavest. reality broadband connections anybody can producer content. added: challenge now hard promote programme much choice. means said stacey jolna senior vice president tv guide tv group way people find content want watch simplified tv viewers. means networks us terms channels take leaf google s book search engine future instead scheduler help people find want watch. kind channel model might work younger ipod generation used taking control gadgets play them. might not suit everyone panel recognised. older generations comfortable familiar schedules channel brands know getting. perhaps not want much choice put hands mr hanlon suggested. end kids just diapers pushing buttons already - everything possible available said mr hanlon. ultimately consumer will tell market want. 50 000 new gadgets technologies showcased ces many enhancing tv-watching experience. high-definition tv sets everywhere many new models lcd (liquid crystal display) tvs launched dvr capability built instead external boxes. one example launched show humax s 26-inch lcd tv 80-hour tivo dvr dvd recorder. one us s biggest satellite tv companies directtv even launched branded dvr show 100-hours recording capability instant replay search function. set can pause rewind tv 90 hours. microsoft chief bill gates announced pre-show keynote speech partnership tivo called tivotogo means people can play recorded programmes windows pcs mobile devices. reflect increasing trend freeing multimedia people can watch want want.\n"
     ]
    }
   ],
   "source": [
    "sentences = []\n",
    "labels = []\n",
    "stopwords = [ \"a\", \"about\", \"above\", \"after\", \"again\", \"against\", \"all\", \"am\", \"an\", \"and\", \"any\", \"are\", \"as\", \"at\", \"be\", \"because\", \"been\", \"before\", \"being\", \"below\", \"between\", \"both\", \"but\", \"by\", \"could\", \"did\", \"do\", \"does\", \"doing\", \"down\", \"during\", \"each\", \"few\", \"for\", \"from\", \"further\", \"had\", \"has\", \"have\", \"having\", \"he\", \"he'd\", \"he'll\", \"he's\", \"her\", \"here\", \"here's\", \"hers\", \"herself\", \"him\", \"himself\", \"his\", \"how\", \"how's\", \"i\", \"i'd\", \"i'll\", \"i'm\", \"i've\", \"if\", \"in\", \"into\", \"is\", \"it\", \"it's\", \"its\", \"itself\", \"let's\", \"me\", \"more\", \"most\", \"my\", \"myself\", \"nor\", \"of\", \"on\", \"once\", \"only\", \"or\", \"other\", \"ought\", \"our\", \"ours\", \"ourselves\", \"out\", \"over\", \"own\", \"same\", \"she\", \"she'd\", \"she'll\", \"she's\", \"should\", \"so\", \"some\", \"such\", \"than\", \"that\", \"that's\", \"the\", \"their\", \"theirs\", \"them\", \"themselves\", \"then\", \"there\", \"there's\", \"these\", \"they\", \"they'd\", \"they'll\", \"they're\", \"they've\", \"this\", \"those\", \"through\", \"to\", \"too\", \"under\", \"until\", \"up\", \"very\", \"was\", \"we\", \"we'd\", \"we'll\", \"we're\", \"we've\", \"were\", \"what\", \"what's\", \"when\", \"when's\", \"where\", \"where's\", \"which\", \"while\", \"who\", \"who's\", \"whom\", \"why\", \"why's\", \"with\", \"would\", \"you\", \"you'd\", \"you'll\", \"you're\", \"you've\", \"your\", \"yours\", \"yourself\", \"yourselves\" ]\n",
    "\n",
    "\n",
    "with open(\"/tmp/bbc-text.csv\", 'r') as csvfile:\n",
    "    data = csv.reader(csvfile)\n",
    "    next(data) # Skips first line\n",
    "    for row in data:\n",
    "        labels.append(row[0])\n",
    "        sentence = row[1]\n",
    "        for word in stopwords: # Eliminate stop words\n",
    "            token = \" \" + word + \" \"\n",
    "            sentence = sentence.replace(token, \" \")\n",
    "            sentence = sentence.replace(\"  \", \" \")\n",
    "        sentences.append(sentence)\n",
    "\n",
    "    \n",
    "print(len(labels))\n",
    "print(len(sentences))\n",
    "print(sentences[0])"
   ]
  },
  {
   "cell_type": "markdown",
   "metadata": {},
   "source": [
    "### Divide into train/validation sets"
   ]
  },
  {
   "cell_type": "code",
   "execution_count": 11,
   "metadata": {
    "colab": {
     "base_uri": "https://localhost:8080/",
     "height": 102
    },
    "id": "XfdaWh06ZGe3",
    "outputId": "22042136-d2b1-4e27-abfa-d449b4ad33c7"
   },
   "outputs": [
    {
     "name": "stdout",
     "output_type": "stream",
     "text": [
      "1780\n",
      "1780\n",
      "1780\n",
      "445\n",
      "445\n"
     ]
    }
   ],
   "source": [
    "train_size = int(training_portion*len(sentences))\n",
    "\n",
    "train_sentences = sentences[0:train_size]\n",
    "train_labels = labels[0:train_size]\n",
    "\n",
    "validation_sentences = sentences[train_size:]\n",
    "validation_labels = labels[train_size:] \n",
    "\n",
    "print(train_size)\n",
    "print(len(train_sentences))\n",
    "print(len(train_labels))\n",
    "print(len(validation_sentences))\n",
    "print(len(validation_labels))"
   ]
  },
  {
   "cell_type": "markdown",
   "metadata": {},
   "source": [
    "### Tokenize and pad sentences"
   ]
  },
  {
   "cell_type": "code",
   "execution_count": 12,
   "metadata": {
    "colab": {
     "base_uri": "https://localhost:8080/",
     "height": 119
    },
    "id": "ULzA8xhwZI22",
    "outputId": "a5862ebe-87ad-4f43-bf41-661ffde90bcd"
   },
   "outputs": [],
   "source": [
    "tokenizer = Tokenizer(num_words=vocab_size, oov_token=oov_tok) \n",
    "tokenizer.fit_on_texts(train_sentences) \n",
    "word_index = tokenizer.word_index\n",
    "\n",
    "train_sequences = tokenizer.texts_to_sequences(train_sentences)\n",
    "train_padded = pad_sequences(train_sequences, maxlen=max_length, padding=padding_type, truncating=trunc_type)\n",
    "\n",
    "validation_sequences = tokenizer.texts_to_sequences(validation_sentences)\n",
    "validation_padded = pad_sequences(validation_sequences, maxlen=max_length, padding=padding_type, truncating=trunc_type)"
   ]
  },
  {
   "cell_type": "markdown",
   "metadata": {},
   "source": [
    "### Tokenize labels"
   ]
  },
  {
   "cell_type": "code",
   "execution_count": 14,
   "metadata": {
    "colab": {
     "base_uri": "https://localhost:8080/",
     "height": 153
    },
    "id": "XkWiQ_FKZNp2",
    "outputId": "bbfd3ab2-fd48-4f5d-8f0b-29dec72eb614"
   },
   "outputs": [],
   "source": [
    "label_tokenizer = Tokenizer()\n",
    "label_tokenizer.fit_on_texts(train_labels)\n",
    "\n",
    "training_label_seq = label_tokenizer.texts_to_sequences(train_labels)\n",
    "validation_label_seq = label_tokenizer.texts_to_sequences(validation_labels)"
   ]
  },
  {
   "cell_type": "markdown",
   "metadata": {},
   "source": [
    "### Turn sentences and labels into np.array"
   ]
  },
  {
   "cell_type": "code",
   "execution_count": 15,
   "metadata": {},
   "outputs": [],
   "source": [
    "train_padded = np.array(train_padded)\n",
    "training_label_seq = np.array(training_label_seq)\n",
    "validation_padded = np.array(validation_padded)\n",
    "validation_label_seq = np.array(validation_label_seq)"
   ]
  },
  {
   "cell_type": "markdown",
   "metadata": {},
   "source": [
    "### Define Sequential model with Embedding and two dense layers"
   ]
  },
  {
   "cell_type": "code",
   "execution_count": 16,
   "metadata": {
    "colab": {
     "base_uri": "https://localhost:8080/",
     "height": 289
    },
    "id": "HZ5um4MWZP-W",
    "outputId": "cd526c0e-2c76-4dd6-d03d-ccd35c072622"
   },
   "outputs": [
    {
     "name": "stdout",
     "output_type": "stream",
     "text": [
      "Model: \"sequential\"\n",
      "_________________________________________________________________\n",
      "Layer (type)                 Output Shape              Param #   \n",
      "=================================================================\n",
      "embedding (Embedding)        (None, 120, 16)           160000    \n",
      "_________________________________________________________________\n",
      "global_average_pooling1d (Gl (None, 16)                0         \n",
      "_________________________________________________________________\n",
      "dense (Dense)                (None, 24)                408       \n",
      "_________________________________________________________________\n",
      "dense_1 (Dense)              (None, 6)                 150       \n",
      "=================================================================\n",
      "Total params: 160,558\n",
      "Trainable params: 160,558\n",
      "Non-trainable params: 0\n",
      "_________________________________________________________________\n"
     ]
    }
   ],
   "source": [
    "model = tf.keras.Sequential([\n",
    "    tf.keras.layers.Embedding(vocab_size, embedding_dim, input_length=max_length),\n",
    "    tf.keras.layers.GlobalAveragePooling1D(),\n",
    "    tf.keras.layers.Dense(24, activation='relu'),\n",
    "    tf.keras.layers.Dense(6, activation='sigmoid')\n",
    "])\n",
    "model.compile(loss='sparse_categorical_crossentropy',optimizer='adam',metrics=['accuracy'])\n",
    "model.summary()"
   ]
  },
  {
   "cell_type": "markdown",
   "metadata": {},
   "source": [
    "### Train model"
   ]
  },
  {
   "cell_type": "code",
   "execution_count": 18,
   "metadata": {
    "colab": {
     "base_uri": "https://localhost:8080/",
     "height": 1000
    },
    "id": "XsfdxySKZSXu",
    "outputId": "91b2d4fa-bf56-427d-aa13-5f04b2d7c9a3"
   },
   "outputs": [
    {
     "name": "stdout",
     "output_type": "stream",
     "text": [
      "Train on 1780 samples, validate on 445 samples\n",
      "Epoch 1/30\n",
      "1780/1780 - 1s - loss: 1.7732 - accuracy: 0.4921 - val_loss: 1.7474 - val_accuracy: 0.6292\n",
      "Epoch 2/30\n",
      "1780/1780 - 0s - loss: 1.7044 - accuracy: 0.7146 - val_loss: 1.6548 - val_accuracy: 0.7326\n",
      "Epoch 3/30\n",
      "1780/1780 - 0s - loss: 1.5785 - accuracy: 0.7500 - val_loss: 1.5111 - val_accuracy: 0.6966\n",
      "Epoch 4/30\n",
      "1780/1780 - 0s - loss: 1.3932 - accuracy: 0.7528 - val_loss: 1.3043 - val_accuracy: 0.7348\n",
      "Epoch 5/30\n",
      "1780/1780 - 0s - loss: 1.1192 - accuracy: 0.8247 - val_loss: 0.9953 - val_accuracy: 0.8427\n",
      "Epoch 6/30\n",
      "1780/1780 - 0s - loss: 0.7637 - accuracy: 0.9438 - val_loss: 0.6666 - val_accuracy: 0.8944\n",
      "Epoch 7/30\n",
      "1780/1780 - 0s - loss: 0.4544 - accuracy: 0.9815 - val_loss: 0.4410 - val_accuracy: 0.9483\n",
      "Epoch 8/30\n",
      "1780/1780 - 0s - loss: 0.2669 - accuracy: 0.9865 - val_loss: 0.3229 - val_accuracy: 0.9551\n",
      "Epoch 9/30\n",
      "1780/1780 - 0s - loss: 0.1671 - accuracy: 0.9899 - val_loss: 0.2633 - val_accuracy: 0.9528\n",
      "Epoch 10/30\n",
      "1780/1780 - 0s - loss: 0.1128 - accuracy: 0.9944 - val_loss: 0.2312 - val_accuracy: 0.9528\n",
      "Epoch 11/30\n",
      "1780/1780 - 0s - loss: 0.0801 - accuracy: 0.9972 - val_loss: 0.1975 - val_accuracy: 0.9640\n",
      "Epoch 12/30\n",
      "1780/1780 - 0s - loss: 0.0597 - accuracy: 0.9983 - val_loss: 0.1861 - val_accuracy: 0.9618\n",
      "Epoch 13/30\n",
      "1780/1780 - 0s - loss: 0.0458 - accuracy: 0.9983 - val_loss: 0.1729 - val_accuracy: 0.9618\n",
      "Epoch 14/30\n",
      "1780/1780 - 0s - loss: 0.0361 - accuracy: 0.9994 - val_loss: 0.1655 - val_accuracy: 0.9640\n",
      "Epoch 15/30\n",
      "1780/1780 - 0s - loss: 0.0290 - accuracy: 0.9994 - val_loss: 0.1580 - val_accuracy: 0.9640\n",
      "Epoch 16/30\n",
      "1780/1780 - 0s - loss: 0.0237 - accuracy: 0.9994 - val_loss: 0.1530 - val_accuracy: 0.9663\n",
      "Epoch 17/30\n",
      "1780/1780 - 0s - loss: 0.0196 - accuracy: 1.0000 - val_loss: 0.1498 - val_accuracy: 0.9640\n",
      "Epoch 18/30\n",
      "1780/1780 - 0s - loss: 0.0165 - accuracy: 1.0000 - val_loss: 0.1454 - val_accuracy: 0.9663\n",
      "Epoch 19/30\n",
      "1780/1780 - 0s - loss: 0.0140 - accuracy: 1.0000 - val_loss: 0.1421 - val_accuracy: 0.9663\n",
      "Epoch 20/30\n",
      "1780/1780 - 0s - loss: 0.0121 - accuracy: 1.0000 - val_loss: 0.1418 - val_accuracy: 0.9663\n",
      "Epoch 21/30\n",
      "1780/1780 - 0s - loss: 0.0105 - accuracy: 1.0000 - val_loss: 0.1394 - val_accuracy: 0.9663\n",
      "Epoch 22/30\n",
      "1780/1780 - 0s - loss: 0.0092 - accuracy: 1.0000 - val_loss: 0.1378 - val_accuracy: 0.9663\n",
      "Epoch 23/30\n",
      "1780/1780 - 0s - loss: 0.0081 - accuracy: 1.0000 - val_loss: 0.1362 - val_accuracy: 0.9663\n",
      "Epoch 24/30\n",
      "1780/1780 - 0s - loss: 0.0072 - accuracy: 1.0000 - val_loss: 0.1346 - val_accuracy: 0.9663\n",
      "Epoch 25/30\n",
      "1780/1780 - 0s - loss: 0.0064 - accuracy: 1.0000 - val_loss: 0.1339 - val_accuracy: 0.9663\n",
      "Epoch 26/30\n",
      "1780/1780 - 0s - loss: 0.0057 - accuracy: 1.0000 - val_loss: 0.1326 - val_accuracy: 0.9663\n",
      "Epoch 27/30\n",
      "1780/1780 - 0s - loss: 0.0052 - accuracy: 1.0000 - val_loss: 0.1326 - val_accuracy: 0.9663\n",
      "Epoch 28/30\n",
      "1780/1780 - 0s - loss: 0.0047 - accuracy: 1.0000 - val_loss: 0.1317 - val_accuracy: 0.9663\n",
      "Epoch 29/30\n",
      "1780/1780 - 0s - loss: 0.0043 - accuracy: 1.0000 - val_loss: 0.1309 - val_accuracy: 0.9663\n",
      "Epoch 30/30\n",
      "1780/1780 - 0s - loss: 0.0039 - accuracy: 1.0000 - val_loss: 0.1304 - val_accuracy: 0.9663\n"
     ]
    }
   ],
   "source": [
    "num_epochs = 30\n",
    "history = model.fit(train_padded, training_label_seq, epochs=num_epochs, validation_data=(validation_padded, validation_label_seq), verbose=2)"
   ]
  },
  {
   "cell_type": "markdown",
   "metadata": {},
   "source": [
    "### Plot accuracy and loss function"
   ]
  },
  {
   "cell_type": "code",
   "execution_count": 21,
   "metadata": {
    "colab": {
     "base_uri": "https://localhost:8080/",
     "height": 541
    },
    "id": "dQ0BX2apXS9u",
    "outputId": "9d12ea36-b6c6-44b0-a3ab-88d43d836be5"
   },
   "outputs": [
    {
     "data": {
      "image/png": "[encoded data removed]",
      "text/plain": [
       "<Figure size 432x288 with 1 Axes>"
      ]
     },
     "metadata": {
      "needs_background": "light"
     },
     "output_type": "display_data"
    },
    {
     "data": {
      "image/png": "[encoded data removed]",
      "text/plain": [
       "<Figure size 432x288 with 1 Axes>"
      ]
     },
     "metadata": {
      "needs_background": "light"
     },
     "output_type": "display_data"
    }
   ],
   "source": [
    "import matplotlib.pyplot as plt\n",
    "\n",
    "\n",
    "def plot_graphs(history, string):\n",
    "  plt.plot(history.history[string])\n",
    "  plt.plot(history.history['val_'+string])\n",
    "  plt.xlabel(\"Epochs\")\n",
    "  plt.ylabel(string)\n",
    "  plt.legend([string, 'val_'+string])\n",
    "  plt.show()\n",
    "  \n",
    "plot_graphs(history, \"accuracy\")\n",
    "plot_graphs(history, \"loss\")"
   ]
  },
  {
   "cell_type": "markdown",
   "metadata": {},
   "source": [
    "# Extra: Visualize embedding in http://projector.tensorflow.org/"
   ]
  },
  {
   "cell_type": "markdown",
   "metadata": {},
   "source": [
    "The following code generates two files: 'vecs.tsv' and 'meta.tsv'. These files can be loaded into http://projector.tensorflow.org/ to visualize the embedding weights."
   ]
  },
  {
   "cell_type": "code",
   "execution_count": 25,
   "metadata": {
    "id": "w7Xc-uWxXhML"
   },
   "outputs": [
    {
     "name": "stdout",
     "output_type": "stream",
     "text": [
      "(10000, 16)\n"
     ]
    }
   ],
   "source": [
    "reverse_word_index = dict([(value, key) for (key, value) in word_index.items()])\n",
    "\n",
    "def decode_sentence(text):\n",
    "    return ' '.join([reverse_word_index.get(i, '?') for i in text])\n",
    "\n",
    "\n",
    "e = model.layers[0]\n",
    "weights = e.get_weights()[0]\n",
    "\n",
    "import io\n",
    "\n",
    "out_v = io.open('vecs.tsv', 'w', encoding='utf-8')\n",
    "out_m = io.open('meta.tsv', 'w', encoding='utf-8')\n",
    "for word_num in range(1, vocab_size):\n",
    "  word = reverse_word_index[word_num]\n",
    "  embeddings = weights[word_num]\n",
    "  out_m.write(word + \"\\n\")\n",
    "  out_v.write('\\t'.join([str(x) for x in embeddings]) + \"\\n\")\n",
    "out_v.close()\n",
    "out_m.close()"
   ]
  }
 ],
 "metadata": {
  "accelerator": "GPU",
  "colab": {
   "name": "Course 3 - Week 2 - Exercise - Question.ipynb",
   "provenance": [],
   "toc_visible": true
  },
  "kernelspec": {
   "display_name": "Python 3",
   "language": "python",
   "name": "python3"
  },
  "language_info": {
   "codemirror_mode": {
    "name": "ipython",
    "version": 3
   },
   "file_extension": ".py",
   "mimetype": "text/x-python",
   "name": "python",
   "nbconvert_exporter": "python",
   "pygments_lexer": "ipython3",
   "version": "3.7.4"
  }
 },
 "nbformat": 4,
 "nbformat_minor": 1
}
